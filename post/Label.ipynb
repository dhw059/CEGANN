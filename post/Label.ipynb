{
 "cells": [
  {
   "cell_type": "code",
   "execution_count": 1,
   "id": "15c3afa8-ef7c-4673-9e37-6d259c505f73",
   "metadata": {},
   "outputs": [],
   "source": [
    "from pymatgen.io.vasp import Poscar\n",
    "from pymatgen import Structure,Lattice"
   ]
  },
  {
   "cell_type": "raw",
   "id": "64fd567c-8bff-42b4-bebd-bb407a40c51b",
   "metadata": {},
   "source": [
    "# adding labels to a poscar file "
   ]
  },
  {
   "cell_type": "code",
   "execution_count": null,
   "id": "87b9373b-8a79-4b97-8f74-65eb48dd198c",
   "metadata": {},
   "outputs": [],
   "source": [
    "def add_label(poscarfile,labels):\n",
    "    lab = \",\".join([str(i) for i in labels])\n",
    "    struct = Structure.from_file(poscarfile)\n",
    "    Poscar(struct,lab).write_file(poscarfile)\n",
    "   "
   ]
  },
  {
   "cell_type": "code",
   "execution_count": null,
   "id": "f77af677-a9e5-4990-a843-29e2b82c2269",
   "metadata": {},
   "outputs": [],
   "source": [
    "add_label(poscarfile,labels)"
   ]
  }
 ],
 "metadata": {
  "kernelspec": {
   "display_name": "base",
   "language": "python",
   "name": "python3"
  },
  "language_info": {
   "codemirror_mode": {
    "name": "ipython",
    "version": 3
   },
   "file_extension": ".py",
   "mimetype": "text/x-python",
   "name": "python",
   "nbconvert_exporter": "python",
   "pygments_lexer": "ipython3",
   "version": "3.8.5"
  }
 },
 "nbformat": 4,
 "nbformat_minor": 5
}
